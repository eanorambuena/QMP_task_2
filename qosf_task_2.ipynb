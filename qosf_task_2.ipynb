{
 "cells": [
  {
   "cell_type": "code",
   "execution_count": 1,
   "id": "611ba8ad-f53e-4669-aaf4-bca21b2677da",
   "metadata": {},
   "outputs": [],
   "source": [
    "import numpy as np\n",
    "\n",
    "# Importing standard Qiskit libraries\n",
    "from qiskit import QuantumCircuit, transpile, Aer, IBMQ, execute\n",
    "from qiskit.tools.jupyter import *\n",
    "from qiskit.visualization import *\n",
    "from ibm_quantum_widgets import *\n",
    "from qiskit.providers.aer import QasmSimulator\n",
    "\n",
    "# Importing IA libraries\n",
    "from qiskit.circuit import Parameter, ParameterVector\n",
    "from qiskit.algorithms.optimizers import GradientDescent\n",
    "from qiskit_machine_learning.neural_networks import OpflowQNN\n",
    "\n",
    "# Loading IBM Quantum account(s)\n",
    "provider = IBMQ.load_account()"
   ]
  },
  {
   "cell_type": "code",
   "execution_count": 2,
   "id": "8d2bf221-6ab2-41ce-9dcb-a8cb444dd626",
   "metadata": {},
   "outputs": [],
   "source": [
    "from qiskit_machine_learning.datasets import ad_hoc_data\n",
    "\n",
    "training_features, training_labels, test_features, test_labels = ad_hoc_data(\n",
    "    training_size=20, test_size=10, n=2, one_hot=False, gap=0.5\n",
    ")\n",
    "\n",
    "# the training labels are in {0, 1} but we'll use {-1, 1} as class labels!\n",
    "training_labels = 2 * training_labels - 1\n",
    "test_labels = 2 * test_labels - 1"
   ]
  },
  {
   "cell_type": "code",
   "execution_count": 3,
   "id": "c447030e-51b7-4bc7-a070-0780ba9cfbbf",
   "metadata": {},
   "outputs": [],
   "source": [
    "from qiskit.utils import QuantumInstance\n",
    "\n",
    "backend = Aer.get_backend('qasm_simulator')\n",
    "q_instance = QuantumInstance(backend, shots = 8192, seed_simulator = 2718, seed_transpiler = 2718)"
   ]
  },
  {
   "cell_type": "code",
   "execution_count": 4,
   "id": "e11487d5-4100-4e73-af15-af03cae2e169",
   "metadata": {},
   "outputs": [],
   "source": [
    "from qiskit.circuit.library import ZZFeatureMap\n",
    "\n",
    "dim = 2\n",
    "feature_map = ZZFeatureMap(dim, reps=1)"
   ]
  },
  {
   "cell_type": "code",
   "execution_count": 5,
   "id": "f79e142e-df1e-4320-b518-45054b1d4071",
   "metadata": {},
   "outputs": [],
   "source": [
    "from qiskit.circuit.library import RealAmplitudes\n",
    "\n",
    "ansatz = RealAmplitudes(num_qubits=dim, entanglement='linear', reps=1)  # also simple here!\n",
    "circuit = feature_map.compose(ansatz)"
   ]
  },
  {
   "cell_type": "code",
   "execution_count": 6,
   "id": "50ca9ded-d7c6-44ce-9cdb-f3c5bb0ff0f5",
   "metadata": {},
   "outputs": [],
   "source": [
    "gd_qnn_loss = []\n",
    "def gd_qnn_callback(*args):\n",
    "    gd_qnn_loss.append(args[2])\n",
    "    \n",
    "gd = GradientDescent(maxiter = 100, learning_rate = 0.01, callback = gd_qnn_callback)"
   ]
  },
  {
   "cell_type": "code",
   "execution_count": 7,
   "id": "67b081c5-a58e-435b-a5b3-509afd618909",
   "metadata": {},
   "outputs": [],
   "source": [
    "from qiskit.opflow import StateFn, Z, PauliExpectation, Gradient\n",
    "\n",
    "hamiltonian = Z ^ Z\n",
    "\n",
    "qnn_expectation = StateFn(hamiltonian, is_measurement=True) @ StateFn(circuit)\n",
    "\n",
    "qnn = OpflowQNN(qnn_expectation, \n",
    "                input_params = list(feature_map.parameters), \n",
    "                weight_params = list(ansatz.parameters),\n",
    "                exp_val = PauliExpectation(),\n",
    "                gradient = Gradient(),  # <-- Parameter-Shift gradients\n",
    "                quantum_instance = q_instance)"
   ]
  },
  {
   "cell_type": "code",
   "execution_count": 8,
   "id": "5230349b-7254-4457-bdb7-e860cc3ba80a",
   "metadata": {},
   "outputs": [],
   "source": [
    "from qiskit_machine_learning.algorithms import NeuralNetworkClassifier\n",
    "#initial_point = np.array([0.2, 0.1, 0.3, 0.4])\n",
    "classifier = NeuralNetworkClassifier(qnn, optimizer=gd)"
   ]
  },
  {
   "cell_type": "code",
   "execution_count": null,
   "id": "f160f9b3-b5cc-418e-a575-38b297920dc1",
   "metadata": {},
   "outputs": [],
   "source": [
    "classifier.fit(training_features, training_labels);"
   ]
  },
  {
   "cell_type": "code",
   "execution_count": null,
   "id": "3ffd88a0-1d21-4d23-9e25-b15f70624768",
   "metadata": {},
   "outputs": [],
   "source": [
    "predicted = classifier.predict(test_features)"
   ]
  },
  {
   "cell_type": "code",
   "execution_count": null,
   "id": "84d8dafb-e616-44bd-811c-418d438d720f",
   "metadata": {},
   "outputs": [],
   "source": []
  },
  {
   "cell_type": "code",
   "execution_count": null,
   "id": "38ac61e5-efe8-4748-9c27-4eecef04080a",
   "metadata": {},
   "outputs": [],
   "source": []
  }
 ],
 "metadata": {
  "kernelspec": {
   "display_name": "Qiskit v0.29.0",
   "language": "python",
   "name": "python3"
  },
  "language_info": {
   "codemirror_mode": {
    "name": "ipython",
    "version": 3
   },
   "file_extension": ".py",
   "mimetype": "text/x-python",
   "name": "python",
   "nbconvert_exporter": "python",
   "pygments_lexer": "ipython3",
   "version": "3.8.10"
  },
  "widgets": {
   "application/vnd.jupyter.widget-state+json": {
    "state": {
     "0380c168b7e841be85e87917e0ba7222": {
      "model_module": "@jupyter-widgets/controls",
      "model_module_version": "1.5.0",
      "model_name": "HBoxModel",
      "state": {
       "children": [
        "IPY_MODEL_a7911e436cd343b4ad2b41a7ebf7d43a",
        "IPY_MODEL_3e8920f72e31467aaf18e79ba863fd63",
        "IPY_MODEL_6da060e59513423f9665ef318a0effff",
        "IPY_MODEL_4e2bfb81c77d415fbb32c9d7bc5a1c7a",
        "IPY_MODEL_e93567763e0c410b9afa170b4a055d76"
       ],
       "layout": "IPY_MODEL_5fd4dc38f24541d5b5949e5f5d08fbd1"
      }
     },
     "19d7e3ecc6484f85a486212ec67bb5fa": {
      "model_module": "@jupyter-widgets/controls",
      "model_module_version": "1.5.0",
      "model_name": "DescriptionStyleModel",
      "state": {
       "description_width": ""
      }
     },
     "21c424db05614e25a4579c6958489f99": {
      "model_module": "@jupyter-widgets/base",
      "model_module_version": "1.2.0",
      "model_name": "LayoutModel",
      "state": {
       "grid_template_areas": "\n                                       \". . . . right \"\n                                        ",
       "grid_template_columns": "20% 20% 20% 20% 20%",
       "width": "100%"
      }
     },
     "3e8920f72e31467aaf18e79ba863fd63": {
      "model_module": "@jupyter-widgets/controls",
      "model_module_version": "1.5.0",
      "model_name": "HTMLModel",
      "state": {
       "layout": "IPY_MODEL_cb3495a8d55b4d3c95f638261b526d3a",
       "style": "IPY_MODEL_19d7e3ecc6484f85a486212ec67bb5fa",
       "value": "<h5>Backend</h5>"
      }
     },
     "4e2bfb81c77d415fbb32c9d7bc5a1c7a": {
      "model_module": "@jupyter-widgets/controls",
      "model_module_version": "1.5.0",
      "model_name": "HTMLModel",
      "state": {
       "layout": "IPY_MODEL_acd765c54a28491098983fd21f3d15a4",
       "style": "IPY_MODEL_c9f4f20557354fc7aba5232ef814da30",
       "value": "<h5>Queue</h5>"
      }
     },
     "51d9e77c3ddd43708b1c554301bf09a6": {
      "model_module": "@jupyter-widgets/base",
      "model_module_version": "1.2.0",
      "model_name": "LayoutModel",
      "state": {
       "grid_area": "right",
       "padding": "0px 0px 0px 0px",
       "width": "70px"
      }
     },
     "583b2f77d4824c6cbf9b5978ca939241": {
      "model_module": "@jupyter-widgets/controls",
      "model_module_version": "1.5.0",
      "model_name": "ButtonModel",
      "state": {
       "button_style": "primary",
       "description": "Clear",
       "layout": "IPY_MODEL_51d9e77c3ddd43708b1c554301bf09a6",
       "style": "IPY_MODEL_dacd558a24394c93aeec61f604afa1c4"
      }
     },
     "5fd4dc38f24541d5b5949e5f5d08fbd1": {
      "model_module": "@jupyter-widgets/base",
      "model_module_version": "1.2.0",
      "model_name": "LayoutModel",
      "state": {
       "margin": "0px 0px 0px 37px",
       "width": "600px"
      }
     },
     "61f4476be5314cd8b4969062c81e64d7": {
      "model_module": "@jupyter-widgets/controls",
      "model_module_version": "1.5.0",
      "model_name": "GridBoxModel",
      "state": {
       "children": [
        "IPY_MODEL_583b2f77d4824c6cbf9b5978ca939241"
       ],
       "layout": "IPY_MODEL_21c424db05614e25a4579c6958489f99"
      }
     },
     "6da060e59513423f9665ef318a0effff": {
      "model_module": "@jupyter-widgets/controls",
      "model_module_version": "1.5.0",
      "model_name": "HTMLModel",
      "state": {
       "layout": "IPY_MODEL_9e3e60c0583f4074a6555cf15a894643",
       "style": "IPY_MODEL_bce4a8cf1dd3445794043dd0c1d63e9b",
       "value": "<h5>Status</h5>"
      }
     },
     "7f06cb7b64e5415a813820a207d27332": {
      "model_module": "@jupyter-widgets/controls",
      "model_module_version": "1.5.0",
      "model_name": "DescriptionStyleModel",
      "state": {
       "description_width": ""
      }
     },
     "7f9d1024f63f4ce48bcf12e015e9b97d": {
      "model_module": "@jupyter-widgets/base",
      "model_module_version": "1.2.0",
      "model_name": "LayoutModel",
      "state": {
       "width": "190px"
      }
     },
     "99a1a12883e742a39bfbd7ed1ec801bd": {
      "model_module": "@jupyter-widgets/controls",
      "model_module_version": "1.5.0",
      "model_name": "DescriptionStyleModel",
      "state": {
       "description_width": ""
      }
     },
     "9e3e60c0583f4074a6555cf15a894643": {
      "model_module": "@jupyter-widgets/base",
      "model_module_version": "1.2.0",
      "model_name": "LayoutModel",
      "state": {
       "width": "95px"
      }
     },
     "a31ce941daa7425aa14d4ea8e2aaa6b5": {
      "model_module": "@jupyter-widgets/controls",
      "model_module_version": "1.5.0",
      "model_name": "HTMLModel",
      "state": {
       "layout": "IPY_MODEL_cd7074f4e7bd408c8c178ff4094bab42",
       "style": "IPY_MODEL_99a1a12883e742a39bfbd7ed1ec801bd",
       "value": "<p style='font-family: IBM Plex Sans, Arial, Helvetica, sans-serif; font-size: 20px; font-weight: medium;'>Circuit Properties</p>"
      }
     },
     "a7911e436cd343b4ad2b41a7ebf7d43a": {
      "model_module": "@jupyter-widgets/controls",
      "model_module_version": "1.5.0",
      "model_name": "HTMLModel",
      "state": {
       "layout": "IPY_MODEL_7f9d1024f63f4ce48bcf12e015e9b97d",
       "style": "IPY_MODEL_7f06cb7b64e5415a813820a207d27332",
       "value": "<h5>Job ID</h5>"
      }
     },
     "acd765c54a28491098983fd21f3d15a4": {
      "model_module": "@jupyter-widgets/base",
      "model_module_version": "1.2.0",
      "model_name": "LayoutModel",
      "state": {
       "width": "70px"
      }
     },
     "bce4a8cf1dd3445794043dd0c1d63e9b": {
      "model_module": "@jupyter-widgets/controls",
      "model_module_version": "1.5.0",
      "model_name": "DescriptionStyleModel",
      "state": {
       "description_width": ""
      }
     },
     "c9f4f20557354fc7aba5232ef814da30": {
      "model_module": "@jupyter-widgets/controls",
      "model_module_version": "1.5.0",
      "model_name": "DescriptionStyleModel",
      "state": {
       "description_width": ""
      }
     },
     "cb3495a8d55b4d3c95f638261b526d3a": {
      "model_module": "@jupyter-widgets/base",
      "model_module_version": "1.2.0",
      "model_name": "LayoutModel",
      "state": {
       "width": "145px"
      }
     },
     "cd7074f4e7bd408c8c178ff4094bab42": {
      "model_module": "@jupyter-widgets/base",
      "model_module_version": "1.2.0",
      "model_name": "LayoutModel",
      "state": {
       "margin": "0px 0px 10px 0px"
      }
     },
     "d538d6bbf8b1498aaee693189af623b4": {
      "model_module": "@jupyter-widgets/controls",
      "model_module_version": "1.5.0",
      "model_name": "DescriptionStyleModel",
      "state": {
       "description_width": ""
      }
     },
     "dacd558a24394c93aeec61f604afa1c4": {
      "model_module": "@jupyter-widgets/controls",
      "model_module_version": "1.5.0",
      "model_name": "ButtonStyleModel",
      "state": {}
     },
     "e93567763e0c410b9afa170b4a055d76": {
      "model_module": "@jupyter-widgets/controls",
      "model_module_version": "1.5.0",
      "model_name": "HTMLModel",
      "state": {
       "layout": "IPY_MODEL_f36f52c93d2c497cb4c30d6676fc57ef",
       "style": "IPY_MODEL_d538d6bbf8b1498aaee693189af623b4",
       "value": "<h5>Message</h5>"
      }
     },
     "f36f52c93d2c497cb4c30d6676fc57ef": {
      "model_module": "@jupyter-widgets/base",
      "model_module_version": "1.2.0",
      "model_name": "LayoutModel",
      "state": {}
     }
    },
    "version_major": 2,
    "version_minor": 0
   }
  }
 },
 "nbformat": 4,
 "nbformat_minor": 5
}
